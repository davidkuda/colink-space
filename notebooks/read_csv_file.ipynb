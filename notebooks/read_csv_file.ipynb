{
 "cells": [
  {
   "cell_type": "code",
   "execution_count": 2,
   "id": "10eb9cfe-bd45-464d-a030-86c6c8e5299a",
   "metadata": {},
   "outputs": [
    {
     "data": {
      "text/plain": [
       "['hacker_news_links.csv', 'experiments', 'users.csv', '.gitkeep']"
      ]
     },
     "execution_count": 2,
     "metadata": {},
     "output_type": "execute_result"
    }
   ],
   "source": [
    "import os\n",
    "\n",
    "os.listdir(\"../data\")\n"
   ]
  },
  {
   "cell_type": "code",
   "execution_count": 7,
   "id": "698bf8c9-6e2d-4bb8-b4b0-0e594e420c57",
   "metadata": {},
   "outputs": [],
   "source": [
    "with open(\"../data/hacker_news_links.csv\", \"r\") as hn_file:\n",
    "    hn_links = hn_file.readlines()"
   ]
  },
  {
   "cell_type": "code",
   "execution_count": 13,
   "id": "fc0f4ebb-f413-44fd-89cb-21e9d8e1df6d",
   "metadata": {},
   "outputs": [
    {
     "data": {
      "text/plain": [
       "'https://mikemcquaid.com/2021/11/08/stop-requiring-specific-technology-experience-for-senior-plus-engineers/'"
      ]
     },
     "execution_count": 13,
     "metadata": {},
     "output_type": "execute_result"
    }
   ],
   "source": [
    "hn_links[100].split(\",\")[1]"
   ]
  },
  {
   "cell_type": "code",
   "execution_count": 14,
   "id": "2a18d35d-6aa4-4202-bfad-35aa40014c84",
   "metadata": {},
   "outputs": [
    {
     "data": {
      "text/plain": [
       "list"
      ]
     },
     "execution_count": 14,
     "metadata": {},
     "output_type": "execute_result"
    }
   ],
   "source": [
    "type(hn_links)"
   ]
  },
  {
   "cell_type": "code",
   "execution_count": null,
   "id": "32fc7b1c-ec2d-43da-8d00-d208acd8a0e4",
   "metadata": {},
   "outputs": [],
   "source": []
  }
 ],
 "metadata": {
  "kernelspec": {
   "display_name": "Python 3 (ipykernel)",
   "language": "python",
   "name": "python3"
  },
  "language_info": {
   "codemirror_mode": {
    "name": "ipython",
    "version": 3
   },
   "file_extension": ".py",
   "mimetype": "text/x-python",
   "name": "python",
   "nbconvert_exporter": "python",
   "pygments_lexer": "ipython3",
   "version": "3.9.7"
  }
 },
 "nbformat": 4,
 "nbformat_minor": 5
}
