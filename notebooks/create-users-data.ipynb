{
 "cells": [
  {
   "cell_type": "code",
   "execution_count": 25,
   "id": "97f5f28f-cb45-43e3-867f-b0e0d5be2554",
   "metadata": {},
   "outputs": [],
   "source": [
    "import os\n",
    "import random\n",
    "\n",
    "import pandas as pd"
   ]
  },
  {
   "cell_type": "code",
   "execution_count": 12,
   "id": "3663313f-0386-4b4b-82b3-10587107b3b7",
   "metadata": {},
   "outputs": [],
   "source": [
    "class User:\n",
    "    id: int\n",
    "    name: str\n",
    "    email: str\n",
    "    country: str\n",
    "    profession: str\n",
    "    interests: str\n",
    "    "
   ]
  },
  {
   "cell_type": "code",
   "execution_count": 9,
   "id": "2ca348c5-3b4f-4b4d-9ada-9df4aa912b55",
   "metadata": {},
   "outputs": [],
   "source": [
    "def parse_txt_file(path: str) -> list:\n",
    "    with open(path, 'r') as file:\n",
    "        s = file.read()\n",
    "        l = s.split('\\n')\n",
    "    return l"
   ]
  },
  {
   "cell_type": "code",
   "execution_count": 49,
   "id": "76290051-e1c9-4652-86ec-49a5ff70875e",
   "metadata": {},
   "outputs": [],
   "source": [
    "first_names = pd.read_csv('../data/experiments/top_names_switzerland.csv')['name'].tolist()\n",
    "last_names = parse_txt_file('../data/experiments/nachnamen_2.txt')\n",
    "countries = ['Switzerland', 'Germany', 'Austria', 'Spain', 'Sweden', 'Denmark']\n",
    "interests = ['programming', 'writing', 'tech', 'guitar', 'reading',\n",
    "             'meditation' 'sports', 'traveling']\n",
    "professions = ['Data Engineer', 'Engineering Manager', 'Software Engineer',\n",
    "              'Site Reliability Engineer', 'Fullstack Developer',\n",
    "              'Data Scientist', 'Frontend Engineer']"
   ]
  },
  {
   "cell_type": "code",
   "execution_count": 50,
   "id": "c8460aa0-0b5f-41ee-95eb-d5e300fd21ec",
   "metadata": {},
   "outputs": [],
   "source": [
    "def write_csv(outpath: str, lines: int) -> None:\n",
    "    with open(outpath, 'w') as file:\n",
    "        \n",
    "        file.write('id,name,email,country,profession,interests\\n')\n",
    "        \n",
    "        for i in range(lines):\n",
    "            \n",
    "            first_name = random.choice(first_names)\n",
    "            last_name = random.choice(last_names)\n",
    "            name = f'{first_name} {last_name}'\n",
    "            email = f'{first_name.lower()}.{last_name.lower()}@protonmail.com'\n",
    "            \n",
    "            line = f'{i},{name},{email},{random.choice(countries)},' \\\n",
    "                   f'{random.choice(professions)},{random.choice(interests)}\\n'\n",
    "\n",
    "            file.write(line)\n"
   ]
  },
  {
   "cell_type": "code",
   "execution_count": 51,
   "id": "df61ad2b-78ff-4d2c-b192-ccb7f38393f7",
   "metadata": {},
   "outputs": [],
   "source": [
    "write_csv('users.csv', 1000)"
   ]
  },
  {
   "cell_type": "code",
   "execution_count": 52,
   "id": "80ff4eca-c12c-4e6c-99b3-fb0a0c15265d",
   "metadata": {},
   "outputs": [
    {
     "name": "stdout",
     "output_type": "stream",
     "text": [
      "id,name,email,country,profession,interests\n",
      "0,Sonia Lanz,sonia.lanz@protonmail.com,Spain,Engineering Manager,programming\n",
      "1,Christian Hunziker,christian.hunziker@protonmail.com,Austria,Data Scientist,guitar\n",
      "2,Noah Kessler,noah.kessler@protonmail.com,Germany,Data Engineer,guitar\n",
      "3,Rafael Zuber,rafael.zuber@protonmail.com,Denmark,Site Reliability Engineer,guitar\n",
      "4,Davide Sutter,davide.sutter@protonmail.com,Germany,Data Scientist,programming\n",
      "5,Hubert Fuchs,hubert.fuchs@protonmail.com,Spain,Frontend Engineer,programming\n",
      "6,Damian Walter,damian.walter@protonmail.com,Spain,Frontend Engineer,guitar\n",
      "7,Lina Beyeler,lina.beyeler@protonmail.com,Switzerland,Site Reliability Engineer,reading\n",
      "8,Jürgen Frey,jürgen.frey@protonmail.com,Germany,Fullstack Developer,guitar\n",
      "cat: stdout: Broken pipe\n"
     ]
    }
   ],
   "source": [
    "!cat users.csv | head -10"
   ]
  },
  {
   "cell_type": "code",
   "execution_count": null,
   "id": "de014273-b840-4df2-bb09-8fdd7d5fcc72",
   "metadata": {},
   "outputs": [],
   "source": []
  }
 ],
 "metadata": {
  "kernelspec": {
   "display_name": "Python 3 (ipykernel)",
   "language": "python",
   "name": "python3"
  },
  "language_info": {
   "codemirror_mode": {
    "name": "ipython",
    "version": 3
   },
   "file_extension": ".py",
   "mimetype": "text/x-python",
   "name": "python",
   "nbconvert_exporter": "python",
   "pygments_lexer": "ipython3",
   "version": "3.9.7"
  }
 },
 "nbformat": 4,
 "nbformat_minor": 5
}
