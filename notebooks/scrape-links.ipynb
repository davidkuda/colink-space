{
 "cells": [
  {
   "cell_type": "code",
   "execution_count": 32,
   "id": "22f13a74-ddac-4fa0-90f4-75ae3902323a",
   "metadata": {},
   "outputs": [],
   "source": [
    "from pprint import pprint"
   ]
  },
  {
   "cell_type": "code",
   "execution_count": 2,
   "id": "c4a67271-08c6-440c-ab77-381272b78f88",
   "metadata": {},
   "outputs": [],
   "source": [
    "import requests\n",
    "from bs4 import BeautifulSoup"
   ]
  },
  {
   "cell_type": "code",
   "execution_count": 60,
   "id": "e25286a3-199e-4820-8c7d-2ef7d50104e2",
   "metadata": {},
   "outputs": [
    {
     "data": {
      "text/plain": [
       "\u001b[0;31mSignature:\u001b[0m \u001b[0mrequests\u001b[0m\u001b[0;34m.\u001b[0m\u001b[0mget\u001b[0m\u001b[0;34m(\u001b[0m\u001b[0murl\u001b[0m\u001b[0;34m,\u001b[0m \u001b[0mparams\u001b[0m\u001b[0;34m=\u001b[0m\u001b[0;32mNone\u001b[0m\u001b[0;34m,\u001b[0m \u001b[0;34m**\u001b[0m\u001b[0mkwargs\u001b[0m\u001b[0;34m)\u001b[0m\u001b[0;34m\u001b[0m\u001b[0;34m\u001b[0m\u001b[0m\n",
       "\u001b[0;31mDocstring:\u001b[0m\n",
       "Sends a GET request.\n",
       "\n",
       ":param url: URL for the new :class:`Request` object.\n",
       ":param params: (optional) Dictionary, list of tuples or bytes to send\n",
       "    in the query string for the :class:`Request`.\n",
       ":param \\*\\*kwargs: Optional arguments that ``request`` takes.\n",
       ":return: :class:`Response <Response>` object\n",
       ":rtype: requests.Response\n",
       "\u001b[0;31mFile:\u001b[0m      /opt/homebrew/Caskroom/miniconda/base/envs/pyDataEng/lib/python3.9/site-packages/requests/api.py\n",
       "\u001b[0;31mType:\u001b[0m      function\n"
      ]
     },
     "metadata": {},
     "output_type": "display_data"
    }
   ],
   "source": [
    "requests.get?"
   ]
  },
  {
   "cell_type": "code",
   "execution_count": 76,
   "id": "e8dbf117-a7bb-4397-b7ef-dc9733505841",
   "metadata": {},
   "outputs": [],
   "source": [
    "class HackerNewsLinksPage:\n",
    "    \n",
    "    RESULTS_PER_PAGE = 30\n",
    "    \n",
    "    \"\"\"Each page on Hacker News has 30 links. This class represents such a page.\"\"\"\n",
    "    def __init__(self, page_url: str):\n",
    "        self.page_content = requests.get(page_url).content\n",
    "        self.soup = BeautifulSoup(self.page_content, \"html.parser\")\n",
    "    \n",
    "    def get_things(self):\n",
    "        things = self.soup.find_all(class_=\"athing\")\n",
    "        return things\n",
    "        \n",
    "    def get_scores(self):\n",
    "        scores = self.soup.find_all(class_=\"score\")\n",
    "        return scores\n",
    "        \n",
    "    def scrape_links(self):\n",
    "        things = self.get_things()\n",
    "        scores = self.get_scores()\n",
    "        \n",
    "        if len(things) != len(scores):\n",
    "            print(\"Different num of things and scores!\")\n",
    "        \n",
    "        links = []\n",
    "        for i in range(RESULTS_PER_PAGE):\n",
    "            thing = things[i]\n",
    "            link_element = thing.find(class_=\"titlelink\")\n",
    "            link = link_element.get(\"href\")\n",
    "            description = link_element.string\n",
    "            score = int(scores[i].string.split()[0])\n",
    "            \n",
    "            data = {\n",
    "                \"link\": link,\n",
    "                \"description\": description,\n",
    "                \"score\": score\n",
    "            }\n",
    "            \n",
    "            links.append(data)\n",
    "        \n",
    "        return links"
   ]
  },
  {
   "cell_type": "code",
   "execution_count": 3,
   "id": "cb5c4bd7-4fcc-4dab-bfd7-72af569e8647",
   "metadata": {},
   "outputs": [],
   "source": [
    "r = requests.get(\"https://news.ycombinator.com/front?day=2021-11-22\")"
   ]
  },
  {
   "cell_type": "code",
   "execution_count": 6,
   "id": "025f693c-8cee-459f-941b-52bee2df5b83",
   "metadata": {},
   "outputs": [],
   "source": [
    "soup = BeautifulSoup(r.content, \"html.parser\")"
   ]
  },
  {
   "cell_type": "code",
   "execution_count": 80,
   "id": "ba94d8ce-59dc-4d42-a4c9-c5940ad664f9",
   "metadata": {},
   "outputs": [
    {
     "data": {
      "text/plain": [
       "'2021-11-22'"
      ]
     },
     "execution_count": 80,
     "metadata": {},
     "output_type": "execute_result"
    }
   ],
   "source": [
    "soup.title.string.split()[0]"
   ]
  },
  {
   "cell_type": "code",
   "execution_count": 7,
   "id": "cb446b45-6e8b-458e-98f6-9f3fcec2b88f",
   "metadata": {},
   "outputs": [],
   "source": [
    "things = soup.find_all(class_=\"athing\")\n",
    "scores = soup.find_all(class_=\"score\")"
   ]
  },
  {
   "cell_type": "code",
   "execution_count": 53,
   "id": "74015ee0-10cf-45d3-9d46-d3297535790e",
   "metadata": {},
   "outputs": [],
   "source": [
    "thing = things[1]"
   ]
  },
  {
   "cell_type": "code",
   "execution_count": 54,
   "id": "48b03b6f-5135-4f25-9dcb-6e9dfe922cf8",
   "metadata": {},
   "outputs": [
    {
     "data": {
      "text/plain": [
       "<tr class=\"athing\" id=\"29306845\">\n",
       "<td align=\"right\" class=\"title\" valign=\"top\"><span class=\"rank\">2.</span></td> <td class=\"votelinks\" valign=\"top\"><center><a href=\"vote?id=29306845&amp;how=up&amp;goto=front%3Fday%3D2021-11-22\" id=\"up_29306845\"><div class=\"votearrow\" title=\"upvote\"></div></a></center></td><td class=\"title\"><a class=\"titlelink\" href=\"https://github.com/rust-lang/team/pull/671\">Rust Moderation Team Resigns</a><span class=\"sitebit comhead\"> (<a href=\"from?site=github.com/rust-lang\"><span class=\"sitestr\">github.com/rust-lang</span></a>)</span></td></tr>"
      ]
     },
     "execution_count": 54,
     "metadata": {},
     "output_type": "execute_result"
    }
   ],
   "source": [
    "thing"
   ]
  },
  {
   "cell_type": "code",
   "execution_count": 63,
   "id": "5038ee8b-10e1-46e1-873c-f6e214867446",
   "metadata": {},
   "outputs": [
    {
     "name": "stdout",
     "output_type": "stream",
     "text": [
      "https://github.com/rust-lang/team/pull/671 \n",
      " Rust Moderation Team Resigns\n"
     ]
    }
   ],
   "source": [
    "print(\n",
    "    thing.find(class_=\"titlelink\").get(\"href\"),\n",
    "    \"\\n\",\n",
    "    thing.find(class_=\"titlelink\").string\n",
    ")"
   ]
  },
  {
   "cell_type": "code",
   "execution_count": 23,
   "id": "3f5d01e7-bbcf-4258-bbdb-f05f0f9e911b",
   "metadata": {
    "collapsed": true,
    "jupyter": {
     "outputs_hidden": true
    },
    "tags": []
   },
   "outputs": [
    {
     "data": {
      "text/plain": [
       "['DEFAULT_INTERESTING_STRING_TYPES',\n",
       " '__bool__',\n",
       " '__call__',\n",
       " '__class__',\n",
       " '__contains__',\n",
       " '__copy__',\n",
       " '__delattr__',\n",
       " '__delitem__',\n",
       " '__dict__',\n",
       " '__dir__',\n",
       " '__doc__',\n",
       " '__eq__',\n",
       " '__format__',\n",
       " '__ge__',\n",
       " '__getattr__',\n",
       " '__getattribute__',\n",
       " '__getitem__',\n",
       " '__gt__',\n",
       " '__hash__',\n",
       " '__init__',\n",
       " '__init_subclass__',\n",
       " '__iter__',\n",
       " '__le__',\n",
       " '__len__',\n",
       " '__lt__',\n",
       " '__module__',\n",
       " '__ne__',\n",
       " '__new__',\n",
       " '__reduce__',\n",
       " '__reduce_ex__',\n",
       " '__repr__',\n",
       " '__setattr__',\n",
       " '__setitem__',\n",
       " '__sizeof__',\n",
       " '__str__',\n",
       " '__subclasshook__',\n",
       " '__unicode__',\n",
       " '__weakref__',\n",
       " '_all_strings',\n",
       " '_find_all',\n",
       " '_find_one',\n",
       " '_is_xml',\n",
       " '_lastRecursiveChild',\n",
       " '_last_descendant',\n",
       " '_should_pretty_print',\n",
       " 'append',\n",
       " 'attrs',\n",
       " 'can_be_empty_element',\n",
       " 'cdata_list_attributes',\n",
       " 'childGenerator',\n",
       " 'children',\n",
       " 'clear',\n",
       " 'contents',\n",
       " 'decode',\n",
       " 'decode_contents',\n",
       " 'decompose',\n",
       " 'decomposed',\n",
       " 'default',\n",
       " 'descendants',\n",
       " 'encode',\n",
       " 'encode_contents',\n",
       " 'extend',\n",
       " 'extract',\n",
       " 'fetchNextSiblings',\n",
       " 'fetchParents',\n",
       " 'fetchPrevious',\n",
       " 'fetchPreviousSiblings',\n",
       " 'find',\n",
       " 'findAll',\n",
       " 'findAllNext',\n",
       " 'findAllPrevious',\n",
       " 'findChild',\n",
       " 'findChildren',\n",
       " 'findNext',\n",
       " 'findNextSibling',\n",
       " 'findNextSiblings',\n",
       " 'findParent',\n",
       " 'findParents',\n",
       " 'findPrevious',\n",
       " 'findPreviousSibling',\n",
       " 'findPreviousSiblings',\n",
       " 'find_all',\n",
       " 'find_all_next',\n",
       " 'find_all_previous',\n",
       " 'find_next',\n",
       " 'find_next_sibling',\n",
       " 'find_next_siblings',\n",
       " 'find_parent',\n",
       " 'find_parents',\n",
       " 'find_previous',\n",
       " 'find_previous_sibling',\n",
       " 'find_previous_siblings',\n",
       " 'format_string',\n",
       " 'formatter_for_name',\n",
       " 'get',\n",
       " 'getText',\n",
       " 'get_attribute_list',\n",
       " 'get_text',\n",
       " 'has_attr',\n",
       " 'has_key',\n",
       " 'hidden',\n",
       " 'index',\n",
       " 'insert',\n",
       " 'insert_after',\n",
       " 'insert_before',\n",
       " 'interesting_string_types',\n",
       " 'isSelfClosing',\n",
       " 'is_empty_element',\n",
       " 'known_xml',\n",
       " 'name',\n",
       " 'namespace',\n",
       " 'next',\n",
       " 'nextGenerator',\n",
       " 'nextSibling',\n",
       " 'nextSiblingGenerator',\n",
       " 'next_element',\n",
       " 'next_elements',\n",
       " 'next_sibling',\n",
       " 'next_siblings',\n",
       " 'parent',\n",
       " 'parentGenerator',\n",
       " 'parents',\n",
       " 'parserClass',\n",
       " 'parser_class',\n",
       " 'prefix',\n",
       " 'preserve_whitespace_tags',\n",
       " 'prettify',\n",
       " 'previous',\n",
       " 'previousGenerator',\n",
       " 'previousSibling',\n",
       " 'previousSiblingGenerator',\n",
       " 'previous_element',\n",
       " 'previous_elements',\n",
       " 'previous_sibling',\n",
       " 'previous_siblings',\n",
       " 'recursiveChildGenerator',\n",
       " 'renderContents',\n",
       " 'replaceWith',\n",
       " 'replaceWithChildren',\n",
       " 'replace_with',\n",
       " 'replace_with_children',\n",
       " 'select',\n",
       " 'select_one',\n",
       " 'setup',\n",
       " 'smooth',\n",
       " 'sourceline',\n",
       " 'sourcepos',\n",
       " 'string',\n",
       " 'strings',\n",
       " 'stripped_strings',\n",
       " 'text',\n",
       " 'unwrap',\n",
       " 'wrap']"
      ]
     },
     "execution_count": 23,
     "metadata": {},
     "output_type": "execute_result"
    }
   ],
   "source": [
    "dir(things[0])"
   ]
  },
  {
   "cell_type": "code",
   "execution_count": 68,
   "id": "42628773-c80c-4ef3-87b8-976995722b86",
   "metadata": {},
   "outputs": [
    {
     "data": {
      "text/plain": [
       "773"
      ]
     },
     "execution_count": 68,
     "metadata": {},
     "output_type": "execute_result"
    }
   ],
   "source": [
    "int(scores[0].string.split()[0])"
   ]
  },
  {
   "cell_type": "code",
   "execution_count": 77,
   "id": "3da767dd-4935-491c-b4a3-c2894e1f5fa2",
   "metadata": {},
   "outputs": [
    {
     "data": {
      "text/plain": [
       "[{'link': 'https://blog.kraken.com/post/11905/your-fingerprint-can-be-hacked-for-5-heres-how/',\n",
       "  'description': 'Fingerprints can be hacked',\n",
       "  'score': 773},\n",
       " {'link': 'https://github.com/rust-lang/team/pull/671',\n",
       "  'description': 'Rust Moderation Team Resigns',\n",
       "  'score': 897},\n",
       " {'link': 'https://www.lse.ac.uk/News/Latest-news-from-LSE/2021/k-November-21/Octopuses-crabs-and-lobsters-welfare-protection',\n",
       "  'description': 'Octopuses, crabs and lobsters to be recognised as sentient beings under UK law',\n",
       "  'score': 516},\n",
       " {'link': 'https://www.strongtowns.org/journal/2017/10/30/the-stroad',\n",
       "  'description': 'The Stroad',\n",
       "  'score': 546},\n",
       " {'link': 'https://news.northwestern.edu/stories/2021/11/dancing-molecules-successfully-repair-severe-spinal-cord-injuries/',\n",
       "  'description': '‘Dancing molecules’ successfully repair severe spinal cord injuries',\n",
       "  'score': 382},\n",
       " {'link': 'https://www.garbageday.email/p/when-the-traffic-firehose-is-pointed',\n",
       "  'description': 'Unmasking the most viral page on Facebook',\n",
       "  'score': 339},\n",
       " {'link': 'https://www.gatesnotes.com/About-Bill-Gates/Holiday-Books-2021',\n",
       "  'description': 'Books I loved reading this year',\n",
       "  'score': 332},\n",
       " {'link': 'https://tikolu.net/emojimix/',\n",
       "  'description': 'Emojimix',\n",
       "  'score': 310},\n",
       " {'link': 'https://www.pnas.org/content/118/43/e2105061118',\n",
       "  'description': 'People mistake the internet’s knowledge for their own',\n",
       "  'score': 302},\n",
       " {'link': 'https://github.com/RDambrosio016/Rust-CUDA',\n",
       "  'description': 'Rust-CUDA: Fast GPU code fully in Rust',\n",
       "  'score': 267},\n",
       " {'link': 'https://ianthehenry.com/posts/how-to-learn-nix/',\n",
       "  'description': 'How to Learn Nix',\n",
       "  'score': 313},\n",
       " {'link': 'https://www.talospace.com/2021/11/51552-javascript-tests-cant-be-wrong.html',\n",
       "  'description': 'First stage POWER9 Firefox JIT passes tests',\n",
       "  'score': 208},\n",
       " {'link': 'https://github.com/tzarc/djinn',\n",
       "  'description': 'Djinn Split Keyboard',\n",
       "  'score': 211},\n",
       " {'link': 'https://svelte-cubed.vercel.app/',\n",
       "  'description': 'Svelte Cubed',\n",
       "  'score': 211},\n",
       " {'link': 'https://cfenollosa.com/blog/no-notebook-is-perfect-but-the-remarkable-comes-really-close.html',\n",
       "  'description': 'The reMarkable as a notebook and eBook reader',\n",
       "  'score': 230},\n",
       " {'link': 'https://blog.toit.io/the-toit-language-is-now-open-source-14bdcb1604d9?gi=328077e6316',\n",
       "  'description': 'The Toit language is now open source',\n",
       "  'score': 218},\n",
       " {'link': 'https://twitter.com/LitAnscombe/status/1442683658951802882',\n",
       "  'description': 'I moderate /r/kafka; people mistake it as a subreddit about kafka the product',\n",
       "  'score': 260},\n",
       " {'link': 'https://developer.apple.com/metal/cpp/',\n",
       "  'description': \"Low overhead C++ interface for Apple's Metal API\",\n",
       "  'score': 171},\n",
       " {'link': 'https://www.sec.gov/Archives/edgar/data/1609711/000160971121000122/gddyblogpostnov222021.htm',\n",
       "  'description': 'GoDaddy Security Breach',\n",
       "  'score': 316},\n",
       " {'link': 'https://repl.leaningtech.com/?python3',\n",
       "  'description': 'Show HN: Run Python, Ruby, Node.js, C++, Lua in the Browser via x86 to WASM JIT',\n",
       "  'score': 169},\n",
       " {'link': 'https://www.acepace.net/2019-07-27-xlatb/',\n",
       "  'description': 'I got nerd sniped into benchmarking legacy x86 instructions (2019)',\n",
       "  'score': 143},\n",
       " {'link': 'https://codeamigo.dev/lessons/161',\n",
       "  'description': 'Rust programming for web developers, by a web developer',\n",
       "  'score': 151},\n",
       " {'link': 'https://jessicahagy.substack.com/p/the-many-gifts-of-awkward-silence',\n",
       "  'description': 'The many gifts of awkward silence',\n",
       "  'score': 198},\n",
       " {'link': 'https://www.youtube.com/watch?v=roBkg-iPrbw',\n",
       "  'description': 'Trackers: The Sound of 16-Bit [video]',\n",
       "  'score': 171},\n",
       " {'link': 'https://caseyhandmer.wordpress.com/2021/11/17/science-upside-for-starship/',\n",
       "  'description': 'Science upside for Starship',\n",
       "  'score': 190},\n",
       " {'link': 'https://mailbox.org/en/post/chat-control-the-latest-eu-plans-to-outlaw-encryption-and-introduce-telecommunications-surveillance?nl',\n",
       "  'description': 'The latest EU plan to outlaw encryption and introduce communication surveillance',\n",
       "  'score': 361},\n",
       " {'link': 'https://news.mit.edu/2021/lithium-ion-battery-costs-0323',\n",
       "  'description': 'Plunge in lithium-ion battery costs',\n",
       "  'score': 161},\n",
       " {'link': 'https://abandonedonline.net/location/scranton-iron-furnaces/',\n",
       "  'description': 'The Scranton Iron Furnaces',\n",
       "  'score': 109},\n",
       " {'link': 'https://henvic.dev/posts/go-postgres/',\n",
       "  'description': 'Back to basics: Writing an application using Go and PostgreSQL',\n",
       "  'score': 129},\n",
       " {'link': 'https://tlkh.dev/benchmarking-the-apple-m1-max',\n",
       "  'description': 'Benchmarking the Apple M1 Max',\n",
       "  'score': 202}]"
      ]
     },
     "execution_count": 77,
     "metadata": {},
     "output_type": "execute_result"
    }
   ],
   "source": [
    "hn = HackerNewsLinksPage(\"https://news.ycombinator.com/front?day=2021-11-22\")\n",
    "hn.scrape_links()"
   ]
  },
  {
   "cell_type": "code",
   "execution_count": null,
   "id": "a4f8e42f-3ca6-4c18-8069-0cf7bdb31d09",
   "metadata": {},
   "outputs": [],
   "source": []
  }
 ],
 "metadata": {
  "kernelspec": {
   "display_name": "Python 3 (ipykernel)",
   "language": "python",
   "name": "python3"
  },
  "language_info": {
   "codemirror_mode": {
    "name": "ipython",
    "version": 3
   },
   "file_extension": ".py",
   "mimetype": "text/x-python",
   "name": "python",
   "nbconvert_exporter": "python",
   "pygments_lexer": "ipython3",
   "version": "3.9.7"
  }
 },
 "nbformat": 4,
 "nbformat_minor": 5
}
